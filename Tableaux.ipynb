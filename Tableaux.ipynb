{
 "cells": [
  {
   "cell_type": "markdown",
   "metadata": {},
   "source": [
    "<table>\n",
    "    <tr>\n",
    "        <td><img src=\"./img/Macc.png\" width=\"auto\"/></td>\n",
    "        <td>\n",
    "            <table><tr>\n",
    "            <h1 style=\"color:blue;text-align:center\">Lógica para Ciencias de la Computación</h1></td>\n",
    "            </tr></table>   \n",
    "        <td>&nbsp;</td>\n",
    "        <td>\n",
    "            <table><tr>\n",
    "            <tp><p style=\"font-size:150%;text-align:center\">Taller</p></tp>\n",
    "            <tp><p style=\"font-size:150%;text-align:center\">Implementación de Tableaux</p></tp>\n",
    "            </tr></table>\n",
    "        </td>\n",
    "    </tr>\n",
    "</table>\n",
    "\n",
    "---"
   ]
  },
  {
   "cell_type": "markdown",
   "metadata": {},
   "source": [
    "# Objetivos <a class=\"anchor\" id=\"inicio\"></a>\n",
    "\n",
    "El objetivo de este notebook es implementar el algoritmo de construcción de tableros semánticos (tableaux). El método de los tableaux es un SATsolver, el cual recibe una fórmula y devuelve una interpretación de la misma, si es que existe, o informa que la fórmula es insatisfacible. Veremos diferentes maneras de implementar este método, dependiendo de distintas maneras de expandir el árbol del tableaux."
   ]
  },
  {
   "cell_type": "markdown",
   "metadata": {},
   "source": [
    "\n",
    "# Secciones\n",
    "\n",
    "1. [Clasificación de fórmulas para tableaux.](#clas)\n",
    "2. [Expansión primero en anchura.](#anchura)\n",
    "3. [Expansión primero en profundidad.](#prof)\n",
    "4. [Recorrido backtracking.](#backt)\n",
    "5. [Eficiencia de los algoritmos (opcional).](#efi)"
   ]
  },
  {
   "cell_type": "markdown",
   "metadata": {},
   "source": [
    "# Clasificación de fórmulas para tableaux <a class=\"anchor\" id=\"clas\"></a>\n",
    "\n",
    "([Volver al inicio](#inicio))\n",
    "\n",
    "Recordemos el siguiente diagrama de flujo para la implementación de un tableaux $\\tau$ para una fórmula $A$:\n",
    "\n",
    "<img src=\"./img/flow.png\" width=\"auto\"/>\n",
    "\n",
    "Hay tres elementos centrales en este algoritmo:\n",
    "\n",
    "* Nodos.\n",
    "* Selección del próximo nodo a expandir.\n",
    "* Clasificación de una fórmula como $\\alpha$ o $\\beta$.\n",
    "\n",
    "En esta sección veremos la clasificación de fórmulas y la implementación de los nodos. En las subsiguientes secciones veremos tres maneras distintas de seleccionar el próximo nodo a expandir."
   ]
  },
  {
   "cell_type": "markdown",
   "metadata": {},
   "source": [
    "### Clasificación de una fórmula como $\\alpha$ o $\\beta$\n",
    "\n",
    "Para realizar la implementación de los tableaux, el orden más apropiado es primero implementar la clasificación de fórmulas. Hemos visto que toda fórmula o es un literal, o puede clasificarse como una fórmula de tipo $\\alpha$ o $\\beta$. Para referencia, repetimos las clasificaciones en la siguiente figura:\n",
    "\n",
    "<img src=\"./img/clasif.png\" width=\"200px\"/>\n",
    "\n",
    "En el siguiente código hemos implementado la clasificación para dos casos: literales y fórmulas 1$\\alpha$:"
   ]
  },
  {
   "cell_type": "code",
   "execution_count": 52,
   "metadata": {},
   "outputs": [],
   "source": [
    "from Logica import *"
   ]
  },
  {
   "cell_type": "code",
   "execution_count": 53,
   "metadata": {},
   "outputs": [],
   "source": [
    "def clasifica_para_tableaux(self):\n",
    "    if type(self) == Letra:\n",
    "        return None, 'literal'\n",
    "    elif type(self) == Negacion:\n",
    "        if type(self.subf) == Letra:\n",
    "            return None, 'literal'\n",
    "        elif type(self.subf) == Negacion:\n",
    "            return 1, 'alfa'\n",
    "        elif type(self.subf) == Binario:\n",
    "            if self.subf.conectivo == 'O':\n",
    "                return 3, 'alfa'\n",
    "            elif self.subf.conectivo == '>':\n",
    "                return 4, 'alfa'\n",
    "            elif self.subf.conectivo == 'Y':\n",
    "                return 1, 'beta'\n",
    "    elif type(self) == Binario:\n",
    "        if self.conectivo == 'Y':\n",
    "            return 2, 'alfa'\n",
    "        elif self.conectivo == 'O':\n",
    "            return 2, 'beta'\n",
    "        elif self.conectivo == '>':\n",
    "            return 3, 'beta'\n",
    "\n",
    "setattr(Formula,\"clasifica_para_tableaux\",clasifica_para_tableaux)"
   ]
  },
  {
   "cell_type": "markdown",
   "metadata": {},
   "source": [
    "**Ejercicio 1:**\n",
    "\n",
    "Complete la anterior función `clasifica_para_tableaux` para clasificar el resto de fórmulas de acuerdo a su tipo. Pruebe su implementación con las siguientes fórmulas:"
   ]
  },
  {
   "cell_type": "code",
   "execution_count": 54,
   "metadata": {},
   "outputs": [
    {
     "name": "stdout",
     "output_type": "stream",
     "text": [
      "(1, 'alfa')\n",
      "(2, 'alfa')\n",
      "(3, 'alfa')\n",
      "(4, 'alfa')\n",
      "(1, 'beta')\n",
      "(2, 'beta')\n",
      "(3, 'beta')\n"
     ]
    }
   ],
   "source": [
    "f = '--(-(pOq)Y-(r>s))'  # 1, alfa\n",
    "A = inorder_to_tree(f)\n",
    "print(A.clasifica_para_tableaux())\n",
    "\n",
    "f = '(-(pOq)Y-(r>s))'  # 2, alfa\n",
    "A = inorder_to_tree(f)\n",
    "print(A.clasifica_para_tableaux())\n",
    "\n",
    "f = '-(pOq)'  # 3, alfa\n",
    "A = inorder_to_tree(f)\n",
    "print(A.clasifica_para_tableaux())\n",
    "\n",
    "f = '-(r>s)' # 4, alfa\n",
    "A = inorder_to_tree(f)\n",
    "print(A.clasifica_para_tableaux())\n",
    "\n",
    "f = '-(pYq)' # 1, beta\n",
    "A = inorder_to_tree(f)\n",
    "print(A.clasifica_para_tableaux())\n",
    "\n",
    "f = '(-(pYq)O(r>s))' # 2, beta\n",
    "A = inorder_to_tree(f)\n",
    "print(A.clasifica_para_tableaux())\n",
    "\n",
    "f = '(r>s)' # 3, beta\n",
    "A = inorder_to_tree(f)\n",
    "print(A.clasifica_para_tableaux())"
   ]
  },
  {
   "cell_type": "markdown",
   "metadata": {},
   "source": [
    "---"
   ]
  },
  {
   "cell_type": "markdown",
   "metadata": {},
   "source": [
    "### Implementación de los nodos\n",
    "\n",
    "El tableaux que vamos a implementar es un árbol basado en nodos. Los nodos son de la clase `nodos_tableaux` que se encuentra en la librería `Logica`. La descripción de la clase es la siguiente:\n",
    "\n",
    "**Atributos:**\n",
    "\n",
    "* `alfas`: una lista con las fórmulas tipo $\\alpha$, representadas como una 4-tupla que incluye la fórmula como árbol, como cadena, el número de la regla y la cadena 'alfa'.\n",
    "* `betas`: una lista con las fórmulas tipo $\\beta$, representadas como una 4-tupla que incluye la fórmula como árbol, como cadena, el número de la regla y la cadena 'beta'.\n",
    "* `literales`: una lista con los literales, representados como una 4-tupla que incluye la fórmula como árbol, como cadena, None y la cadena 'literal'.\n",
    "\n",
    "**Métodos:**\n",
    "\n",
    "* `tiene_lit_comp`: retorna `True` si self.`literales` tiene un par complementario de literales.\n",
    "* `es_hoja`: retorna 'Cerrada' si self.`literales` tiene un par complementario de literales; 'Abierta' si self.`literales` NO tiene un par complementario de literales y no tiene reglas ni alfa ni beta; None en otro caso.\n",
    "* `interp`: retorna un diccionario que hace veradero a todos los literales en self.`literales`.\n",
    "* `expandir`: retorna un `nodo_tableaux` que es el resultado de aplicar la primera regla $\\alpha$. Si no hay reglas $\\alpha$, retorna dos `nodo_tableaux` que son el resultado de aplicar la primera regla $\\beta$. Si no hay reglas $\\beta$, retorna None, None.\n",
    "\n",
    "Para ilustrar esta clase, instanciemos un objeto a partir de una fórmula $\\alpha$, una $\\beta$ y un literal:"
   ]
  },
  {
   "cell_type": "code",
   "execution_count": 55,
   "metadata": {},
   "outputs": [
    {
     "name": "stdout",
     "output_type": "stream",
     "text": [
      "Nodo n:\n",
      "Alfas:['-(p>q)']\n",
      "Betas:['(pOq)']\n",
      "Literales:['-p']\n",
      "\n",
      "¿Tiene literales complementarios? False\n",
      "¿Es una hoja? None\n",
      "Interpretación para literales: {'p': False}\n"
     ]
    }
   ],
   "source": [
    "print('Nodo n:')\n",
    "forms = ['-(p>q)', '(pOq)', '-p']\n",
    "forms = [inorder_to_tree(f) for f in forms]\n",
    "n = nodos_tableaux(forms)\n",
    "print(n)\n",
    "print('')\n",
    "print('¿Tiene literales complementarios?', n.tiene_lit_comp())\n",
    "print('¿Es una hoja?', n.es_hoja())\n",
    "print('Interpretación para literales:', n.interp())"
   ]
  },
  {
   "cell_type": "markdown",
   "metadata": {},
   "source": [
    "El método `expandir` tomará la primera (y única en este caso) fórmula $\\alpha$ y devolvera una lista [`None`, `n1`] donde `n1` es el nodo resultado de aplicar la regla:"
   ]
  },
  {
   "cell_type": "code",
   "execution_count": 56,
   "metadata": {},
   "outputs": [
    {
     "data": {
      "text/plain": [
       "[<Logica.nodos_tableaux at 0x24c15e73760>, None]"
      ]
     },
     "execution_count": 56,
     "metadata": {},
     "output_type": "execute_result"
    }
   ],
   "source": [
    "hijos = n.expandir()\n",
    "hijos"
   ]
  },
  {
   "cell_type": "code",
   "execution_count": 57,
   "metadata": {},
   "outputs": [
    {
     "name": "stdout",
     "output_type": "stream",
     "text": [
      "Alfas:[]\n",
      "Betas:['(pOq)']\n",
      "Literales:['-p', 'p', '-q']\n"
     ]
    }
   ],
   "source": [
    "for hijo in hijos:\n",
    "    if hijo != None:\n",
    "        print(hijo)"
   ]
  },
  {
   "cell_type": "markdown",
   "metadata": {},
   "source": [
    "**Ejercicio 2:**\n",
    "\n",
    "Explanda el hijo de `n` y verifique si los nodos resultado tienen pares complementarios de literales."
   ]
  },
  {
   "cell_type": "code",
   "execution_count": 58,
   "metadata": {},
   "outputs": [
    {
     "data": {
      "text/plain": [
       "[<Logica.nodos_tableaux at 0x24c15e73460>,\n",
       " <Logica.nodos_tableaux at 0x24c15db0190>]"
      ]
     },
     "execution_count": 58,
     "metadata": {},
     "output_type": "execute_result"
    }
   ],
   "source": [
    "n1=hijos[0]\n",
    "hijos=n1.expandir()\n",
    "hijos"
   ]
  },
  {
   "cell_type": "code",
   "execution_count": 59,
   "metadata": {},
   "outputs": [
    {
     "name": "stdout",
     "output_type": "stream",
     "text": [
      "Alfas:[]\n",
      "Betas:[]\n",
      "Literales:['-p', 'p', '-q']\n",
      "¿literales complementarios? True\n",
      "Alfas:[]\n",
      "Betas:[]\n",
      "Literales:['-p', 'p', '-q', 'q']\n",
      "¿literales complementarios? True\n"
     ]
    }
   ],
   "source": [
    "for hijo in hijos:\n",
    "    if hijo != None:\n",
    "        print(hijo)\n",
    "        print(\"¿literales complementarios?\", hijo.tiene_lit_comp())"
   ]
  },
  {
   "cell_type": "markdown",
   "metadata": {},
   "source": [
    "---"
   ]
  },
  {
   "cell_type": "markdown",
   "metadata": {},
   "source": [
    "**Ejercicio 3:**\n",
    "\n",
    "Expanda manualmente (o mediante un while) el siguiente nodo hasta obtener solo una lista de literales y devuelva la interpretación que los hace verdaderos. Observe que todas sus subfórmulas son de tipo $\\alpha$:"
   ]
  },
  {
   "cell_type": "code",
   "execution_count": 60,
   "metadata": {},
   "outputs": [],
   "source": [
    "forms = ['--(-(pOq)Y-(r>s))']\n",
    "forms = [inorder_to_tree(f) for f in forms]\n",
    "n = nodos_tableaux(forms)"
   ]
  },
  {
   "cell_type": "markdown",
   "metadata": {},
   "source": [
    "---"
   ]
  },
  {
   "cell_type": "markdown",
   "metadata": {},
   "source": [
    "# Expansión primero en anchura <a class=\"anchor\" id=\"anchura\"></a>\n",
    "\n",
    "([Volver al inicio](#inicio))\n",
    "\n",
    "Ya tenemos los elementos necesarios para la generación del tableaux, pero necesitamos especificar una manera de ir expandiendo el árbol. Además de la opción de expandirlo de manera aleatoria -- seleccionando aleatoriamente un nodo que no sea una hoja -- tenemos tres opciones. En esta sección examinaremos la expansión primero en anchura. El pseudocódigo del algoritmo es el siguiente:\n",
    "\n",
    "<img src=\"./img/anchura.png\" width=\"350px\"/>\n",
    "\n",
    "La implementación en Python es la siguiente:"
   ]
  },
  {
   "cell_type": "code",
   "execution_count": 61,
   "metadata": {},
   "outputs": [],
   "source": [
    "def primero_anchura(nodo):\n",
    "    estado = nodo\n",
    "    res = estado.es_hoja()\n",
    "    if res == 'cerrada':\n",
    "        return None\n",
    "    elif res == 'abierta':\n",
    "        return estado.interp()\n",
    "    frontera = [estado]\n",
    "    while len(frontera) > 0:\n",
    "        estado = frontera.pop(0) \n",
    "        hijos = estado.expandir()\n",
    "        for a in hijos:\n",
    "            if a != None:\n",
    "                res = a.es_hoja()\n",
    "                if res == 'abierta':\n",
    "                    return a.interp()\n",
    "                elif res == None:\n",
    "                    frontera.append(a)\n",
    "    return None"
   ]
  },
  {
   "cell_type": "markdown",
   "metadata": {},
   "source": [
    "Podemos usar esta función para expandir el nodo del ejercicio 3:"
   ]
  },
  {
   "cell_type": "code",
   "execution_count": 62,
   "metadata": {},
   "outputs": [
    {
     "name": "stdout",
     "output_type": "stream",
     "text": [
      "Resultado: {'p': False, 'q': False, 'r': True, 's': False}\n"
     ]
    }
   ],
   "source": [
    "forms = ['--(-(pOq)Y-(r>s))']\n",
    "forms = [inorder_to_tree(f) for f in forms]\n",
    "n = nodos_tableaux(forms)\n",
    "I = primero_anchura(n)\n",
    "print(\"Resultado:\", I)"
   ]
  },
  {
   "cell_type": "markdown",
   "metadata": {},
   "source": [
    "**Ejercicio 4:**\n",
    "\n",
    "Expanda el nodo correspondiente a la siguiente fórmula:\n",
    "\n",
    "'(((pYq)O(rOq))Y(-qO-p))'\n",
    "\n",
    "Debe obtener la siguiente interpretación:\n",
    "\n",
    "Resultado: {'q': False, 'r': True}"
   ]
  },
  {
   "cell_type": "code",
   "execution_count": 63,
   "metadata": {},
   "outputs": [
    {
     "name": "stdout",
     "output_type": "stream",
     "text": [
      "Resultado: {'q': False, 'r': True}\n"
     ]
    }
   ],
   "source": [
    "forms = ['(((pYq)O(rOq))Y(-qO-p))']\n",
    "forms = [inorder_to_tree(f) for f in forms]\n",
    "n = nodos_tableaux(forms)\n",
    "I = primero_anchura(n)\n",
    "print(\"Resultado:\", I)"
   ]
  },
  {
   "cell_type": "markdown",
   "metadata": {},
   "source": [
    "---"
   ]
  },
  {
   "cell_type": "markdown",
   "metadata": {},
   "source": [
    "# Expansión primero en profundidad <a class=\"anchor\" id=\"prof\"></a>\n",
    "\n",
    "([Volver al inicio](#inicio))\n",
    "\n",
    "Además de poder expandir primero en anchura, podemos expandir primero en profundidad. El pseudocódigo de este algoritmo es el siguiente:\n",
    "\n",
    "<img src=\"./img/profundidad.png\" width=\"350px\"/>"
   ]
  },
  {
   "cell_type": "markdown",
   "metadata": {},
   "source": [
    "**Ejercicio 5:**\n",
    "\n",
    "Implemente la función `primero_profundidad` y expanda los nodos para las siguientes fórmulas:\n",
    "\n",
    "* '--(-(pOq)Y-(r>s))'\n",
    "* '(((pYq)O(rOq))Y(-qO-p))'\n",
    "\n",
    "Las soluciones deben ser las siguientes:\n",
    "\n",
    "* Resultado: {'p': False, 'q': False, 'r': True, 's': False}\n",
    "* Resultado: {'p': False, 'r': True}"
   ]
  },
  {
   "cell_type": "code",
   "execution_count": 64,
   "metadata": {},
   "outputs": [],
   "source": [
    "def primero_profundidad(nodo):\n",
    "    estado=nodo\n",
    "    res=estado.es_hoja()\n",
    "    if res=='cerrada':\n",
    "        return None\n",
    "    elif res=='abierta':\n",
    "        return estado.interp()\n",
    "    frontera=[estado]\n",
    "    y=len(frontera)\n",
    "    while y>0:\n",
    "        estado=frontera.pop((y-1))\n",
    "        hijos=estado.expandir()\n",
    "        for a in hijos:\n",
    "            if a!=None:\n",
    "                res=a.es_hoja()\n",
    "                if res=='abierta':\n",
    "                    return a.interp()\n",
    "                else:\n",
    "                    frontera.append(a)\n",
    "    return None\n",
    "    \n",
    "        "
   ]
  },
  {
   "cell_type": "code",
   "execution_count": 65,
   "metadata": {},
   "outputs": [
    {
     "name": "stdout",
     "output_type": "stream",
     "text": [
      "Resultado: {'p': False, 'q': False, 'r': True, 's': False}\n",
      "Resultado: {'q': False, 'r': True}\n"
     ]
    }
   ],
   "source": [
    "forms = ['--(-(pOq)Y-(r>s))']\n",
    "forms = [inorder_to_tree(f) for f in forms]\n",
    "n = nodos_tableaux(forms)\n",
    "I = primero_profundidad(n)\n",
    "print(\"Resultado:\", I)\n",
    "\n",
    "\n",
    "form = ['(((pYq)O(rOq))Y(-qO-p))']\n",
    "form = [inorder_to_tree(f) for f in form]\n",
    "m = nodos_tableaux(form)\n",
    "J = primero_profundidad(m)\n",
    "print(\"Resultado:\", J)"
   ]
  },
  {
   "cell_type": "markdown",
   "metadata": {},
   "source": [
    "---"
   ]
  },
  {
   "cell_type": "markdown",
   "metadata": {},
   "source": [
    "# Recorrido con backtracking <a class=\"anchor\" id=\"backt\"></a>\n",
    "\n",
    "([Volver al inicio](#inicio))\n",
    "\n",
    "Podemos hacer también un recorrido por el árbol haciendo una expansión recursiva que implementa el backtracking, como en el siguiente pseudocódigo:\n",
    "\n",
    "<img src=\"./img/backtracking.png\" width=\"350px\"/>"
   ]
  },
  {
   "cell_type": "markdown",
   "metadata": {},
   "source": [
    "**Ejercicio 6:**\n",
    "\n",
    "Implemente la función `backtracking` y expanda los nodos para las siguientes fórmulas:\n",
    "\n",
    "* '--(-(pOq)Y-(r>s))'\n",
    "* '(((pYq)O(rOq))Y(-qO-p))'\n",
    "\n",
    "Las soluciones deben ser las siguientes:\n",
    "\n",
    "* Resultado: {'p': False, 'q': False, 'r': True, 's': False}\n",
    "* Resultado: {'q': False, 'r': True}"
   ]
  },
  {
   "cell_type": "code",
   "execution_count": 66,
   "metadata": {},
   "outputs": [],
   "source": [
    "def backtracking(nodo):\n",
    "    estado=nodo\n",
    "    res=estado.es_hoja()\n",
    "    if res=='cerrada':\n",
    "        return None\n",
    "    elif res=='abierta':\n",
    "        return estado.interp()\n",
    "    for hijo in estado.expandir():\n",
    "        resultado=backtracking(hijo)\n",
    "        if resultado!=None:\n",
    "            return resultado\n",
    "    return None"
   ]
  },
  {
   "cell_type": "code",
   "execution_count": 70,
   "metadata": {},
   "outputs": [
    {
     "name": "stdout",
     "output_type": "stream",
     "text": [
      "Resultado: {'p': False, 'q': False, 'r': True, 's': False}\n"
     ]
    },
    {
     "ename": "AttributeError",
     "evalue": "'NoneType' object has no attribute 'es_hoja'",
     "output_type": "error",
     "traceback": [
      "\u001b[1;31m---------------------------------------------------------------------------\u001b[0m",
      "\u001b[1;31mAttributeError\u001b[0m                            Traceback (most recent call last)",
      "Input \u001b[1;32mIn [70]\u001b[0m, in \u001b[0;36m<cell line: 11>\u001b[1;34m()\u001b[0m\n\u001b[0;32m      9\u001b[0m forms \u001b[38;5;241m=\u001b[39m [inorder_to_tree(f) \u001b[38;5;28;01mfor\u001b[39;00m f \u001b[38;5;129;01min\u001b[39;00m forms]\n\u001b[0;32m     10\u001b[0m m \u001b[38;5;241m=\u001b[39m nodos_tableaux(forms)\n\u001b[1;32m---> 11\u001b[0m J \u001b[38;5;241m=\u001b[39m \u001b[43mbacktracking\u001b[49m\u001b[43m(\u001b[49m\u001b[43mm\u001b[49m\u001b[43m)\u001b[49m\n\u001b[0;32m     12\u001b[0m \u001b[38;5;28mprint\u001b[39m(\u001b[38;5;124m\"\u001b[39m\u001b[38;5;124mResultado:\u001b[39m\u001b[38;5;124m\"\u001b[39m, J)\n",
      "Input \u001b[1;32mIn [66]\u001b[0m, in \u001b[0;36mbacktracking\u001b[1;34m(nodo)\u001b[0m\n\u001b[0;32m      7\u001b[0m     \u001b[38;5;28;01mreturn\u001b[39;00m estado\u001b[38;5;241m.\u001b[39minterp()\n\u001b[0;32m      8\u001b[0m \u001b[38;5;28;01mfor\u001b[39;00m hijo \u001b[38;5;129;01min\u001b[39;00m estado\u001b[38;5;241m.\u001b[39mexpandir():\n\u001b[1;32m----> 9\u001b[0m     resultado\u001b[38;5;241m=\u001b[39m\u001b[43mbacktracking\u001b[49m\u001b[43m(\u001b[49m\u001b[43mhijo\u001b[49m\u001b[43m)\u001b[49m\n\u001b[0;32m     10\u001b[0m     \u001b[38;5;28;01mif\u001b[39;00m resultado\u001b[38;5;241m!=\u001b[39m\u001b[38;5;28;01mNone\u001b[39;00m:\n\u001b[0;32m     11\u001b[0m         \u001b[38;5;28;01mreturn\u001b[39;00m resultado\n",
      "Input \u001b[1;32mIn [66]\u001b[0m, in \u001b[0;36mbacktracking\u001b[1;34m(nodo)\u001b[0m\n\u001b[0;32m      7\u001b[0m     \u001b[38;5;28;01mreturn\u001b[39;00m estado\u001b[38;5;241m.\u001b[39minterp()\n\u001b[0;32m      8\u001b[0m \u001b[38;5;28;01mfor\u001b[39;00m hijo \u001b[38;5;129;01min\u001b[39;00m estado\u001b[38;5;241m.\u001b[39mexpandir():\n\u001b[1;32m----> 9\u001b[0m     resultado\u001b[38;5;241m=\u001b[39m\u001b[43mbacktracking\u001b[49m\u001b[43m(\u001b[49m\u001b[43mhijo\u001b[49m\u001b[43m)\u001b[49m\n\u001b[0;32m     10\u001b[0m     \u001b[38;5;28;01mif\u001b[39;00m resultado\u001b[38;5;241m!=\u001b[39m\u001b[38;5;28;01mNone\u001b[39;00m:\n\u001b[0;32m     11\u001b[0m         \u001b[38;5;28;01mreturn\u001b[39;00m resultado\n",
      "Input \u001b[1;32mIn [66]\u001b[0m, in \u001b[0;36mbacktracking\u001b[1;34m(nodo)\u001b[0m\n\u001b[0;32m      7\u001b[0m     \u001b[38;5;28;01mreturn\u001b[39;00m estado\u001b[38;5;241m.\u001b[39minterp()\n\u001b[0;32m      8\u001b[0m \u001b[38;5;28;01mfor\u001b[39;00m hijo \u001b[38;5;129;01min\u001b[39;00m estado\u001b[38;5;241m.\u001b[39mexpandir():\n\u001b[1;32m----> 9\u001b[0m     resultado\u001b[38;5;241m=\u001b[39m\u001b[43mbacktracking\u001b[49m\u001b[43m(\u001b[49m\u001b[43mhijo\u001b[49m\u001b[43m)\u001b[49m\n\u001b[0;32m     10\u001b[0m     \u001b[38;5;28;01mif\u001b[39;00m resultado\u001b[38;5;241m!=\u001b[39m\u001b[38;5;28;01mNone\u001b[39;00m:\n\u001b[0;32m     11\u001b[0m         \u001b[38;5;28;01mreturn\u001b[39;00m resultado\n",
      "Input \u001b[1;32mIn [66]\u001b[0m, in \u001b[0;36mbacktracking\u001b[1;34m(nodo)\u001b[0m\n\u001b[0;32m      1\u001b[0m \u001b[38;5;28;01mdef\u001b[39;00m \u001b[38;5;21mbacktracking\u001b[39m(nodo):\n\u001b[0;32m      2\u001b[0m     estado\u001b[38;5;241m=\u001b[39mnodo\n\u001b[1;32m----> 3\u001b[0m     res\u001b[38;5;241m=\u001b[39m\u001b[43mestado\u001b[49m\u001b[38;5;241;43m.\u001b[39;49m\u001b[43mes_hoja\u001b[49m()\n\u001b[0;32m      4\u001b[0m     \u001b[38;5;28;01mif\u001b[39;00m res\u001b[38;5;241m==\u001b[39m\u001b[38;5;124m'\u001b[39m\u001b[38;5;124mcerrada\u001b[39m\u001b[38;5;124m'\u001b[39m:\n\u001b[0;32m      5\u001b[0m         \u001b[38;5;28;01mreturn\u001b[39;00m \u001b[38;5;28;01mNone\u001b[39;00m\n",
      "\u001b[1;31mAttributeError\u001b[0m: 'NoneType' object has no attribute 'es_hoja'"
     ]
    }
   ],
   "source": [
    "forms = ['--(-(pOq)Y-(r>s))']\n",
    "forms = [inorder_to_tree(f) for f in forms]\n",
    "n = nodos_tableaux(forms)\n",
    "I = backtracking(n)\n",
    "print(\"Resultado:\", I)\n",
    "\n",
    "\n",
    "forms = ['(((pYq)O(rOq))Y(-qO-p))']\n",
    "forms = [inorder_to_tree(f) for f in forms]\n",
    "m = nodos_tableaux(forms)\n",
    "J = backtracking(m)\n",
    "print(\"Resultado:\", J)"
   ]
  },
  {
   "cell_type": "markdown",
   "metadata": {},
   "source": [
    "---"
   ]
  },
  {
   "cell_type": "markdown",
   "metadata": {},
   "source": [
    "# Sección opcional: Eficiencia de los algoritmos <a class=\"anchor\" id=\"efi\"></a>\n",
    "\n",
    "\n",
    "([Volver al inicio](#inicio))\n",
    "\n",
    "Vamos a verificar empíricamente cuál función es más rápida para expandir el árbol del tableaux de una fórmula dada. Para ello, crearemos fórmulas más y más grandes para probar en ellas nuestros tres algoritmos.\n",
    "\n",
    "Definimos nuestras funciones para medir tiempos en una lista de entradas: "
   ]
  },
  {
   "cell_type": "code",
   "execution_count": null,
   "metadata": {},
   "outputs": [],
   "source": [
    "from time import time\n",
    "import seaborn as sns\n",
    "import pandas as pd\n",
    "import matplotlib.pyplot as plt\n",
    "\n",
    "def obtiene_tiempos(fun, args, num_it=100):\n",
    "    tiempos_fun = []\n",
    "    for i in range(num_it):\n",
    "        arranca = time()\n",
    "        x = fun(*args)\n",
    "        para = time()\n",
    "        tiempos_fun.append(para - arranca)\n",
    "    return tiempos_fun\n",
    "\n",
    "def compara_entradas_funs(funs, nombres_funs, lista_args, N=100):\n",
    "    entradas = []\n",
    "    funcion = []\n",
    "    tiempos = []\n",
    "    lista_dfs = []\n",
    "    for i, args in enumerate(lista_args):\n",
    "        for j, fun in enumerate(funs):\n",
    "            t = obtiene_tiempos(fun, [args], N)\n",
    "            tiempos += t\n",
    "            n = len(t)\n",
    "            entradas += [i+1]*n\n",
    "            funcion += [nombres_funs[j]]*n\n",
    "        df = pd.DataFrame({'Long_entrada':entradas, \n",
    "                           'Funcion':funcion,\n",
    "                           'Tiempo_prom':tiempos})\n",
    "        lista_dfs.append(df)\n",
    "    df = pd.concat(lista_dfs)\n",
    "    sns.lineplot(x='Long_entrada',y='Tiempo_prom',hue='Funcion',data=df)\n",
    "    plt.show()"
   ]
  },
  {
   "cell_type": "markdown",
   "metadata": {},
   "source": [
    "Creamos nuestra lista de fórmulas:"
   ]
  },
  {
   "cell_type": "code",
   "execution_count": null,
   "metadata": {},
   "outputs": [],
   "source": [
    "from random import uniform, choice\n",
    "\n",
    "cantidad = 20\n",
    "letras = [chr(i) for i in range(256, 256+cantidad)]\n",
    "lista = [letras[0]]\n",
    "formula = letras[0]\n",
    "for p in letras[1:]:\n",
    "    neg1 = '-' if uniform(0,1) > .5 else ''\n",
    "    neg2 = '-' if uniform(0,1) > .5 else ''\n",
    "    conectivo = choice(['Y','O','>'])\n",
    "    formula = neg2 + \"(\" + formula + conectivo + neg1 + p + \")\"\n",
    "    lista.append(formula)\n",
    "\n",
    "#lista"
   ]
  },
  {
   "cell_type": "markdown",
   "metadata": {},
   "source": [
    "Y, finalmente, medimos los tiempos de ejecución para cada fórmula:"
   ]
  },
  {
   "cell_type": "code",
   "execution_count": null,
   "metadata": {
    "scrolled": false
   },
   "outputs": [],
   "source": [
    "nombres = ['primero anchura', 'primero profundidad', 'backtracking']\n",
    "anchura = lambda formula: primero_anchura(nodos_tableaux([inorder_to_tree(formula)]))\n",
    "profundidad = lambda formula: primero_profundidad(nodos_tableaux([inorder_to_tree(formula)]))\n",
    "backtrack = lambda formula: backtracking(nodos_tableaux([inorder_to_tree(formula)]))\n",
    "funs = [anchura, profundidad, backtrack]\n",
    "compara_entradas_funs(funs, nombres, lista)"
   ]
  },
  {
   "cell_type": "markdown",
   "metadata": {},
   "source": [
    "En esta gráfica es muy fácil apreciar que, a medida que aumentamos el número de letras proposicionales distintas en la fórmula de entrada, los tres algoritmos se tardan más en determinar si ella es satisfacible. De los tres algoritmos, el peor es el de backtracking y el mejor es el de primero en profundidad. No obstante, vemos que el número de letras proposicionales no es el único factor que influye en el tiempo de ejecución. También influye la estructura de la fórmula. Más adelante estudiaremos el comportamiento de los algoritmos de acuerdo a distintos tipos de fórmulas."
   ]
  },
  {
   "cell_type": "markdown",
   "metadata": {},
   "source": [
    "---"
   ]
  }
 ],
 "metadata": {
  "kernelspec": {
   "display_name": "Python 3 (ipykernel)",
   "language": "python",
   "name": "python3"
  },
  "language_info": {
   "codemirror_mode": {
    "name": "ipython",
    "version": 3
   },
   "file_extension": ".py",
   "mimetype": "text/x-python",
   "name": "python",
   "nbconvert_exporter": "python",
   "pygments_lexer": "ipython3",
   "version": "3.9.12"
  }
 },
 "nbformat": 4,
 "nbformat_minor": 4
}
